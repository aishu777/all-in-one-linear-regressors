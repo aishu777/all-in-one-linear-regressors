{
 "cells": [
  {
   "cell_type": "code",
   "execution_count": 1,
   "id": "3c480c02",
   "metadata": {},
   "outputs": [],
   "source": [
    "import pandas as pd\n",
    "import numpy as np\n",
    "import matplotlib.pyplot as plt"
   ]
  },
  {
   "cell_type": "code",
   "execution_count": 12,
   "id": "7fd6f716",
   "metadata": {},
   "outputs": [],
   "source": [
    "loadData = pd.read_csv(\"C:\\\\Users\\\\Ayshu\\\\Downloads\\\\archive (3)\\\\winequality-red.csv\")"
   ]
  },
  {
   "cell_type": "code",
   "execution_count": 13,
   "id": "3031762a",
   "metadata": {},
   "outputs": [
    {
     "data": {
      "text/html": [
       "<div>\n",
       "<style scoped>\n",
       "    .dataframe tbody tr th:only-of-type {\n",
       "        vertical-align: middle;\n",
       "    }\n",
       "\n",
       "    .dataframe tbody tr th {\n",
       "        vertical-align: top;\n",
       "    }\n",
       "\n",
       "    .dataframe thead th {\n",
       "        text-align: right;\n",
       "    }\n",
       "</style>\n",
       "<table border=\"1\" class=\"dataframe\">\n",
       "  <thead>\n",
       "    <tr style=\"text-align: right;\">\n",
       "      <th></th>\n",
       "      <th>fixed acidity</th>\n",
       "      <th>volatile acidity</th>\n",
       "      <th>citric acid</th>\n",
       "      <th>residual sugar</th>\n",
       "      <th>chlorides</th>\n",
       "      <th>free sulfur dioxide</th>\n",
       "      <th>pH</th>\n",
       "      <th>sulphates</th>\n",
       "      <th>alcohol</th>\n",
       "    </tr>\n",
       "  </thead>\n",
       "  <tbody>\n",
       "    <tr>\n",
       "      <th>0</th>\n",
       "      <td>7.4</td>\n",
       "      <td>0.70</td>\n",
       "      <td>0.00</td>\n",
       "      <td>1.9</td>\n",
       "      <td>0.076</td>\n",
       "      <td>11.0</td>\n",
       "      <td>3.51</td>\n",
       "      <td>0.56</td>\n",
       "      <td>9.4</td>\n",
       "    </tr>\n",
       "    <tr>\n",
       "      <th>1</th>\n",
       "      <td>7.8</td>\n",
       "      <td>0.88</td>\n",
       "      <td>0.00</td>\n",
       "      <td>2.6</td>\n",
       "      <td>0.098</td>\n",
       "      <td>25.0</td>\n",
       "      <td>3.20</td>\n",
       "      <td>0.68</td>\n",
       "      <td>9.8</td>\n",
       "    </tr>\n",
       "    <tr>\n",
       "      <th>2</th>\n",
       "      <td>7.8</td>\n",
       "      <td>0.76</td>\n",
       "      <td>0.04</td>\n",
       "      <td>2.3</td>\n",
       "      <td>0.092</td>\n",
       "      <td>15.0</td>\n",
       "      <td>3.26</td>\n",
       "      <td>0.65</td>\n",
       "      <td>9.8</td>\n",
       "    </tr>\n",
       "    <tr>\n",
       "      <th>3</th>\n",
       "      <td>11.2</td>\n",
       "      <td>0.28</td>\n",
       "      <td>0.56</td>\n",
       "      <td>1.9</td>\n",
       "      <td>0.075</td>\n",
       "      <td>17.0</td>\n",
       "      <td>3.16</td>\n",
       "      <td>0.58</td>\n",
       "      <td>9.8</td>\n",
       "    </tr>\n",
       "    <tr>\n",
       "      <th>4</th>\n",
       "      <td>7.4</td>\n",
       "      <td>0.70</td>\n",
       "      <td>0.00</td>\n",
       "      <td>1.9</td>\n",
       "      <td>0.076</td>\n",
       "      <td>11.0</td>\n",
       "      <td>3.51</td>\n",
       "      <td>0.56</td>\n",
       "      <td>9.4</td>\n",
       "    </tr>\n",
       "  </tbody>\n",
       "</table>\n",
       "</div>"
      ],
      "text/plain": [
       "   fixed acidity  volatile acidity  citric acid  residual sugar  chlorides  \\\n",
       "0            7.4              0.70         0.00             1.9      0.076   \n",
       "1            7.8              0.88         0.00             2.6      0.098   \n",
       "2            7.8              0.76         0.04             2.3      0.092   \n",
       "3           11.2              0.28         0.56             1.9      0.075   \n",
       "4            7.4              0.70         0.00             1.9      0.076   \n",
       "\n",
       "   free sulfur dioxide    pH  sulphates  alcohol  \n",
       "0                 11.0  3.51       0.56      9.4  \n",
       "1                 25.0  3.20       0.68      9.8  \n",
       "2                 15.0  3.26       0.65      9.8  \n",
       "3                 17.0  3.16       0.58      9.8  \n",
       "4                 11.0  3.51       0.56      9.4  "
      ]
     },
     "execution_count": 13,
     "metadata": {},
     "output_type": "execute_result"
    }
   ],
   "source": [
    "loadData.head(5)"
   ]
  },
  {
   "cell_type": "code",
   "execution_count": 14,
   "id": "883ac9f5",
   "metadata": {},
   "outputs": [
    {
     "data": {
      "text/html": [
       "<div>\n",
       "<style scoped>\n",
       "    .dataframe tbody tr th:only-of-type {\n",
       "        vertical-align: middle;\n",
       "    }\n",
       "\n",
       "    .dataframe tbody tr th {\n",
       "        vertical-align: top;\n",
       "    }\n",
       "\n",
       "    .dataframe thead th {\n",
       "        text-align: right;\n",
       "    }\n",
       "</style>\n",
       "<table border=\"1\" class=\"dataframe\">\n",
       "  <thead>\n",
       "    <tr style=\"text-align: right;\">\n",
       "      <th></th>\n",
       "      <th>fixed acidity</th>\n",
       "      <th>volatile acidity</th>\n",
       "      <th>citric acid</th>\n",
       "      <th>residual sugar</th>\n",
       "      <th>chlorides</th>\n",
       "      <th>free sulfur dioxide</th>\n",
       "      <th>pH</th>\n",
       "      <th>sulphates</th>\n",
       "    </tr>\n",
       "  </thead>\n",
       "  <tbody>\n",
       "    <tr>\n",
       "      <th>0</th>\n",
       "      <td>7.4</td>\n",
       "      <td>0.70</td>\n",
       "      <td>0.00</td>\n",
       "      <td>1.9</td>\n",
       "      <td>0.076</td>\n",
       "      <td>11.0</td>\n",
       "      <td>3.51</td>\n",
       "      <td>0.56</td>\n",
       "    </tr>\n",
       "    <tr>\n",
       "      <th>1</th>\n",
       "      <td>7.8</td>\n",
       "      <td>0.88</td>\n",
       "      <td>0.00</td>\n",
       "      <td>2.6</td>\n",
       "      <td>0.098</td>\n",
       "      <td>25.0</td>\n",
       "      <td>3.20</td>\n",
       "      <td>0.68</td>\n",
       "    </tr>\n",
       "    <tr>\n",
       "      <th>2</th>\n",
       "      <td>7.8</td>\n",
       "      <td>0.76</td>\n",
       "      <td>0.04</td>\n",
       "      <td>2.3</td>\n",
       "      <td>0.092</td>\n",
       "      <td>15.0</td>\n",
       "      <td>3.26</td>\n",
       "      <td>0.65</td>\n",
       "    </tr>\n",
       "    <tr>\n",
       "      <th>3</th>\n",
       "      <td>11.2</td>\n",
       "      <td>0.28</td>\n",
       "      <td>0.56</td>\n",
       "      <td>1.9</td>\n",
       "      <td>0.075</td>\n",
       "      <td>17.0</td>\n",
       "      <td>3.16</td>\n",
       "      <td>0.58</td>\n",
       "    </tr>\n",
       "    <tr>\n",
       "      <th>4</th>\n",
       "      <td>7.4</td>\n",
       "      <td>0.70</td>\n",
       "      <td>0.00</td>\n",
       "      <td>1.9</td>\n",
       "      <td>0.076</td>\n",
       "      <td>11.0</td>\n",
       "      <td>3.51</td>\n",
       "      <td>0.56</td>\n",
       "    </tr>\n",
       "  </tbody>\n",
       "</table>\n",
       "</div>"
      ],
      "text/plain": [
       "   fixed acidity  volatile acidity  citric acid  residual sugar  chlorides  \\\n",
       "0            7.4              0.70         0.00             1.9      0.076   \n",
       "1            7.8              0.88         0.00             2.6      0.098   \n",
       "2            7.8              0.76         0.04             2.3      0.092   \n",
       "3           11.2              0.28         0.56             1.9      0.075   \n",
       "4            7.4              0.70         0.00             1.9      0.076   \n",
       "\n",
       "   free sulfur dioxide    pH  sulphates  \n",
       "0                 11.0  3.51       0.56  \n",
       "1                 25.0  3.20       0.68  \n",
       "2                 15.0  3.26       0.65  \n",
       "3                 17.0  3.16       0.58  \n",
       "4                 11.0  3.51       0.56  "
      ]
     },
     "execution_count": 14,
     "metadata": {},
     "output_type": "execute_result"
    }
   ],
   "source": [
    "x = loadData.drop('alcohol',axis='columns')\n",
    "x.head(5)"
   ]
  },
  {
   "cell_type": "code",
   "execution_count": 15,
   "id": "173b48bd",
   "metadata": {},
   "outputs": [
    {
     "data": {
      "text/html": [
       "<div>\n",
       "<style scoped>\n",
       "    .dataframe tbody tr th:only-of-type {\n",
       "        vertical-align: middle;\n",
       "    }\n",
       "\n",
       "    .dataframe tbody tr th {\n",
       "        vertical-align: top;\n",
       "    }\n",
       "\n",
       "    .dataframe thead th {\n",
       "        text-align: right;\n",
       "    }\n",
       "</style>\n",
       "<table border=\"1\" class=\"dataframe\">\n",
       "  <thead>\n",
       "    <tr style=\"text-align: right;\">\n",
       "      <th></th>\n",
       "      <th>alcohol</th>\n",
       "    </tr>\n",
       "  </thead>\n",
       "  <tbody>\n",
       "    <tr>\n",
       "      <th>0</th>\n",
       "      <td>9.4</td>\n",
       "    </tr>\n",
       "    <tr>\n",
       "      <th>1</th>\n",
       "      <td>9.8</td>\n",
       "    </tr>\n",
       "    <tr>\n",
       "      <th>2</th>\n",
       "      <td>9.8</td>\n",
       "    </tr>\n",
       "    <tr>\n",
       "      <th>3</th>\n",
       "      <td>9.8</td>\n",
       "    </tr>\n",
       "    <tr>\n",
       "      <th>4</th>\n",
       "      <td>9.4</td>\n",
       "    </tr>\n",
       "  </tbody>\n",
       "</table>\n",
       "</div>"
      ],
      "text/plain": [
       "   alcohol\n",
       "0      9.4\n",
       "1      9.8\n",
       "2      9.8\n",
       "3      9.8\n",
       "4      9.4"
      ]
     },
     "execution_count": 15,
     "metadata": {},
     "output_type": "execute_result"
    }
   ],
   "source": [
    "y = loadData.drop(['fixed acidity','volatile acidity','citric acid','residual sugar','chlorides','free sulfur dioxide','pH','sulphates'],axis='columns')\n",
    "y.head(5)"
   ]
  },
  {
   "cell_type": "code",
   "execution_count": 73,
   "id": "7c2749f2",
   "metadata": {},
   "outputs": [
    {
     "data": {
      "image/png": "[encoded data removed]",
      "text/plain": [
       "<Figure size 432x288 with 1 Axes>"
      ]
     },
     "metadata": {
      "needs_background": "light"
     },
     "output_type": "display_data"
    }
   ],
   "source": [
    "plt.scatter(x['residual sugar'], y)\n",
    "plt.xlabel('residual sugar')\n",
    "plt.ylabel('alcohol')\n",
    "plt.show()"
   ]
  },
  {
   "cell_type": "markdown",
   "id": "02082981",
   "metadata": {},
   "source": [
    "# Support Vector Regression\n"
   ]
  },
  {
   "cell_type": "code",
   "execution_count": 16,
   "id": "78152cbd",
   "metadata": {},
   "outputs": [],
   "source": [
    "from sklearn.svm import SVR"
   ]
  },
  {
   "cell_type": "code",
   "execution_count": 17,
   "id": "bf81d447",
   "metadata": {},
   "outputs": [],
   "source": [
    "svr_reg = SVR(kernel='rbf')"
   ]
  },
  {
   "cell_type": "code",
   "execution_count": 18,
   "id": "966602a5",
   "metadata": {},
   "outputs": [
    {
     "name": "stderr",
     "output_type": "stream",
     "text": [
      "C:\\Users\\Ayshu\\anaconda3\\lib\\site-packages\\sklearn\\utils\\validation.py:63: DataConversionWarning: A column-vector y was passed when a 1d array was expected. Please change the shape of y to (n_samples, ), for example using ravel().\n",
      "  return f(*args, **kwargs)\n"
     ]
    },
    {
     "data": {
      "text/plain": [
       "SVR()"
      ]
     },
     "execution_count": 18,
     "metadata": {},
     "output_type": "execute_result"
    }
   ],
   "source": [
    "svr_reg.fit(x,y)"
   ]
  },
  {
   "cell_type": "code",
   "execution_count": 29,
   "id": "7319cf5b",
   "metadata": {},
   "outputs": [],
   "source": [
    "svr_pred=svr_reg.predict(x)"
   ]
  },
  {
   "cell_type": "code",
   "execution_count": 30,
   "id": "af5d013a",
   "metadata": {},
   "outputs": [
    {
     "data": {
      "text/plain": [
       "array([ 9.96869432, 10.0361967 ,  9.95040649, ..., 10.35505876,\n",
       "       10.41391461, 10.48770437])"
      ]
     },
     "execution_count": 30,
     "metadata": {},
     "output_type": "execute_result"
    }
   ],
   "source": [
    "svr_pred"
   ]
  },
  {
   "cell_type": "code",
   "execution_count": 21,
   "id": "e6b62b64",
   "metadata": {},
   "outputs": [],
   "source": [
    "from sklearn.metrics import mean_squared_error"
   ]
  },
  {
   "cell_type": "code",
   "execution_count": 94,
   "id": "dbb94262",
   "metadata": {},
   "outputs": [
    {
     "name": "stdout",
     "output_type": "stream",
     "text": [
      "RMSE OF SUPPORT VECTOR REGRESSION  1.0413996806249752\n"
     ]
    }
   ],
   "source": [
    "svr_rmse=np.sqrt(mean_squared_error(y, svr_pred))\n",
    "print(\"RMSE OF SUPPORT VECTOR REGRESSION \", svr_rmse)\n",
    "a=svr_rmse"
   ]
  },
  {
   "cell_type": "code",
   "execution_count": 116,
   "id": "5ee3515b",
   "metadata": {},
   "outputs": [
    {
     "name": "stdout",
     "output_type": "stream",
     "text": [
      "SCORE OF SUPPORT VECTOR REGRESSION 0.044428782463155625\n"
     ]
    }
   ],
   "source": [
    "print(\"SCORE OF SUPPORT VECTOR REGRESSION\",svr_reg.score(x,y))\n",
    "a1=svr_reg.score(x,y)"
   ]
  },
  {
   "cell_type": "code",
   "execution_count": 78,
   "id": "aff6fe3d",
   "metadata": {},
   "outputs": [
    {
     "data": {
      "image/png": "[encoded data removed]",
      "text/plain": [
       "<Figure size 432x288 with 1 Axes>"
      ]
     },
     "metadata": {
      "needs_background": "light"
     },
     "output_type": "display_data"
    }
   ],
   "source": [
    "plt.scatter(x['residual sugar'], svr_pred)\n",
    "plt.xlabel('residual sugar')\n",
    "plt.ylabel('alcohol')\n",
    "plt.show()"
   ]
  },
  {
   "cell_type": "markdown",
   "id": "40952381",
   "metadata": {},
   "source": [
    "# Random forest"
   ]
  },
  {
   "cell_type": "code",
   "execution_count": 26,
   "id": "4b63da3c",
   "metadata": {},
   "outputs": [],
   "source": [
    "from sklearn.ensemble import RandomForestRegressor"
   ]
  },
  {
   "cell_type": "code",
   "execution_count": 27,
   "id": "159d4a25",
   "metadata": {},
   "outputs": [],
   "source": [
    "ran_reg = RandomForestRegressor(n_estimators=200, random_state=0)"
   ]
  },
  {
   "cell_type": "code",
   "execution_count": 28,
   "id": "8605cc0b",
   "metadata": {},
   "outputs": [
    {
     "name": "stderr",
     "output_type": "stream",
     "text": [
      "<ipython-input-28-9847c5751a07>:1: DataConversionWarning: A column-vector y was passed when a 1d array was expected. Please change the shape of y to (n_samples,), for example using ravel().\n",
      "  ran_reg.fit(x,y)\n"
     ]
    },
    {
     "data": {
      "text/plain": [
       "RandomForestRegressor(n_estimators=200, random_state=0)"
      ]
     },
     "execution_count": 28,
     "metadata": {},
     "output_type": "execute_result"
    }
   ],
   "source": [
    "ran_reg.fit(x,y)"
   ]
  },
  {
   "cell_type": "code",
   "execution_count": 33,
   "id": "c4894df7",
   "metadata": {},
   "outputs": [
    {
     "data": {
      "text/plain": [
       "array([ 9.417     ,  9.846     ,  9.77433333, ..., 11.0105    ,\n",
       "       10.40721667, 11.3395    ])"
      ]
     },
     "execution_count": 33,
     "metadata": {},
     "output_type": "execute_result"
    }
   ],
   "source": [
    "ran_pred=ran_reg.predict(x)\n",
    "ran_pred"
   ]
  },
  {
   "cell_type": "code",
   "execution_count": 95,
   "id": "fffbcf76",
   "metadata": {},
   "outputs": [
    {
     "name": "stdout",
     "output_type": "stream",
     "text": [
      "RMSE OF RANDOM FOREST 0.26122249184520585\n"
     ]
    }
   ],
   "source": [
    "ran_rmse=np.sqrt(mean_squared_error(y, ran_pred))\n",
    "print(\"RMSE OF RANDOM FOREST\",ran_rmse)\n",
    "b=ran_rmse"
   ]
  },
  {
   "cell_type": "code",
   "execution_count": 117,
   "id": "3a768075",
   "metadata": {},
   "outputs": [
    {
     "name": "stdout",
     "output_type": "stream",
     "text": [
      "SCORE OF RANDOM FOREST 0.9398757993315644\n"
     ]
    }
   ],
   "source": [
    "print(\"SCORE OF RANDOM FOREST\",ran_reg.score(x,y))\n",
    "b1=ran_reg.score(x,y)"
   ]
  },
  {
   "cell_type": "code",
   "execution_count": 77,
   "id": "6268eb1c",
   "metadata": {},
   "outputs": [
    {
     "data": {
      "image/png": "[encoded data removed]",
      "text/plain": [
       "<Figure size 432x288 with 1 Axes>"
      ]
     },
     "metadata": {
      "needs_background": "light"
     },
     "output_type": "display_data"
    }
   ],
   "source": [
    "plt.scatter(x['residual sugar'], ran_pred)\n",
    "plt.xlabel('residual sugar')\n",
    "plt.ylabel('alcohol')\n",
    "plt.show()"
   ]
  },
  {
   "cell_type": "markdown",
   "id": "e0f60411",
   "metadata": {},
   "source": [
    "# Decission Tree Regression"
   ]
  },
  {
   "cell_type": "code",
   "execution_count": 38,
   "id": "fbf6192f",
   "metadata": {},
   "outputs": [],
   "source": [
    "from sklearn.tree import DecisionTreeRegressor"
   ]
  },
  {
   "cell_type": "code",
   "execution_count": 39,
   "id": "e3a25ce5",
   "metadata": {},
   "outputs": [],
   "source": [
    "dec_reg = DecisionTreeRegressor()"
   ]
  },
  {
   "cell_type": "code",
   "execution_count": 118,
   "id": "78169d7b",
   "metadata": {},
   "outputs": [
    {
     "name": "stdout",
     "output_type": "stream",
     "text": [
      "RMSE OF DECISSION TREE 0.0010626277880782646\n",
      "SCORE OF DESSION TREE 0.9999990050746029\n"
     ]
    }
   ],
   "source": [
    "dec_reg.fit(x,y)\n",
    "dec_pred = dec_reg.predict(x)\n",
    "dec_rmse=np.sqrt(mean_squared_error(y, dec_pred))\n",
    "print(\"RMSE OF DECISSION TREE\",dec_rmse)\n",
    "c=dec_rmse\n",
    "print(\"SCORE OF DESSION TREE\",dec_reg.score(x,y))\n",
    "c1=dec_reg.score(x,y)"
   ]
  },
  {
   "cell_type": "code",
   "execution_count": 76,
   "id": "ebd9712f",
   "metadata": {},
   "outputs": [
    {
     "data": {
      "image/png": "[encoded data removed]",
      "text/plain": [
       "<Figure size 432x288 with 1 Axes>"
      ]
     },
     "metadata": {
      "needs_background": "light"
     },
     "output_type": "display_data"
    }
   ],
   "source": [
    "plt.scatter(x['residual sugar'], dec_pred)\n",
    "plt.xlabel('residual sugar')\n",
    "plt.ylabel('alcohol')\n",
    "plt.show()"
   ]
  },
  {
   "cell_type": "markdown",
   "id": "7627064b",
   "metadata": {},
   "source": [
    "# Polynomial Regression"
   ]
  },
  {
   "cell_type": "code",
   "execution_count": 45,
   "id": "e8abe362",
   "metadata": {},
   "outputs": [],
   "source": [
    "from sklearn.linear_model import LinearRegression\n",
    "from sklearn.preprocessing import PolynomialFeatures"
   ]
  },
  {
   "cell_type": "code",
   "execution_count": 46,
   "id": "f066f731",
   "metadata": {},
   "outputs": [],
   "source": [
    "pol_reg = PolynomialFeatures(degree=10)"
   ]
  },
  {
   "cell_type": "code",
   "execution_count": 47,
   "id": "e0bc6d1b",
   "metadata": {},
   "outputs": [],
   "source": [
    "x_ = pol_reg.fit_transform(x)"
   ]
  },
  {
   "cell_type": "code",
   "execution_count": 48,
   "id": "edee0972",
   "metadata": {},
   "outputs": [],
   "source": [
    "lin_reg = LinearRegression()"
   ]
  },
  {
   "cell_type": "code",
   "execution_count": 49,
   "id": "cc3c7dd7",
   "metadata": {},
   "outputs": [
    {
     "data": {
      "text/plain": [
       "LinearRegression()"
      ]
     },
     "execution_count": 49,
     "metadata": {},
     "output_type": "execute_result"
    }
   ],
   "source": [
    "lin_reg.fit(x_,y)"
   ]
  },
  {
   "cell_type": "code",
   "execution_count": 50,
   "id": "b2284c20",
   "metadata": {},
   "outputs": [],
   "source": [
    "pol_pred = lin_reg.predict(x_)"
   ]
  },
  {
   "cell_type": "code",
   "execution_count": 51,
   "id": "43b94265",
   "metadata": {},
   "outputs": [
    {
     "data": {
      "text/plain": [
       "array([[ 9.91262455],\n",
       "       [ 9.66820956],\n",
       "       [ 9.87039459],\n",
       "       ...,\n",
       "       [10.659727  ],\n",
       "       [10.4162122 ],\n",
       "       [11.63753551]])"
      ]
     },
     "execution_count": 51,
     "metadata": {},
     "output_type": "execute_result"
    }
   ],
   "source": [
    "pol_pred"
   ]
  },
  {
   "cell_type": "code",
   "execution_count": 53,
   "id": "ac9e6f36",
   "metadata": {},
   "outputs": [],
   "source": [
    "poly_rmse=np.sqrt(mean_squared_error(y, pol_pred))"
   ]
  },
  {
   "cell_type": "code",
   "execution_count": 97,
   "id": "398c4706",
   "metadata": {},
   "outputs": [
    {
     "name": "stdout",
     "output_type": "stream",
     "text": [
      "RMSE OF POLYNOMIAL REGRESSION 0.9455048915762011\n"
     ]
    }
   ],
   "source": [
    "print(\"RMSE OF POLYNOMIAL REGRESSION\", poly_rmse)\n",
    "d=poly_rmse"
   ]
  },
  {
   "cell_type": "code",
   "execution_count": 119,
   "id": "a3d5de06",
   "metadata": {},
   "outputs": [
    {
     "name": "stdout",
     "output_type": "stream",
     "text": [
      "SCORE OF POLYNOMIAL REGRESSION 0.19175584802375112\n"
     ]
    }
   ],
   "source": [
    "print(\"SCORE OF POLYNOMIAL REGRESSION\",lin_reg.score(x,y))\n",
    "d1=lin_reg.score(x,y)"
   ]
  },
  {
   "cell_type": "code",
   "execution_count": 75,
   "id": "4dcdbb87",
   "metadata": {},
   "outputs": [
    {
     "data": {
      "image/png": "[encoded data removed]",
      "text/plain": [
       "<Figure size 432x288 with 1 Axes>"
      ]
     },
     "metadata": {
      "needs_background": "light"
     },
     "output_type": "display_data"
    }
   ],
   "source": [
    "plt.scatter(x['residual sugar'], pol_pred)\n",
    "plt.xlabel('residual sugar')\n",
    "plt.ylabel('alcohol')\n",
    "plt.show()"
   ]
  },
  {
   "cell_type": "markdown",
   "id": "da8483f7",
   "metadata": {},
   "source": [
    "# Multilinear regression"
   ]
  },
  {
   "cell_type": "code",
   "execution_count": 58,
   "id": "07703364",
   "metadata": {},
   "outputs": [
    {
     "data": {
      "text/plain": [
       "LinearRegression()"
      ]
     },
     "execution_count": 58,
     "metadata": {},
     "output_type": "execute_result"
    }
   ],
   "source": [
    "lin_reg.fit(x,y)"
   ]
  },
  {
   "cell_type": "code",
   "execution_count": 59,
   "id": "1dd20ef8",
   "metadata": {},
   "outputs": [],
   "source": [
    "mul_pred = lin_reg.predict(x)"
   ]
  },
  {
   "cell_type": "code",
   "execution_count": 60,
   "id": "8facee8f",
   "metadata": {},
   "outputs": [
    {
     "data": {
      "text/plain": [
       "array([[10.3662056 ],\n",
       "       [ 9.51886732],\n",
       "       [ 9.85901064],\n",
       "       ...,\n",
       "       [10.56167631],\n",
       "       [10.70104248],\n",
       "       [11.27749951]])"
      ]
     },
     "execution_count": 60,
     "metadata": {},
     "output_type": "execute_result"
    }
   ],
   "source": [
    "mul_pred"
   ]
  },
  {
   "cell_type": "code",
   "execution_count": 61,
   "id": "a96e5217",
   "metadata": {},
   "outputs": [
    {
     "data": {
      "text/plain": [
       "array([[-0.0619435 , -0.56473041,  1.42614753,  0.05586183, -5.59055955,\n",
       "        -0.01124376,  1.93111876,  0.9919924 ]])"
      ]
     },
     "execution_count": 61,
     "metadata": {},
     "output_type": "execute_result"
    }
   ],
   "source": [
    "lin_reg.coef_"
   ]
  },
  {
   "cell_type": "code",
   "execution_count": 62,
   "id": "bfdbd1d0",
   "metadata": {},
   "outputs": [
    {
     "data": {
      "text/plain": [
       "array([4.32858263])"
      ]
     },
     "execution_count": 62,
     "metadata": {},
     "output_type": "execute_result"
    }
   ],
   "source": [
    "lin_reg.intercept_"
   ]
  },
  {
   "cell_type": "code",
   "execution_count": 123,
   "id": "2218087d",
   "metadata": {},
   "outputs": [
    {
     "name": "stdout",
     "output_type": "stream",
     "text": [
      "RMSE OF MULTILINEAR REGRESSION 0.9577611036849808\n"
     ]
    }
   ],
   "source": [
    "mul_rmse=print(\"RMSE OF MULTILINEAR REGRESSION\",np.sqrt(mean_squared_error(y, mul_pred)))\n",
    "e=np.sqrt(mean_squared_error(y, mul_pred))"
   ]
  },
  {
   "cell_type": "code",
   "execution_count": 120,
   "id": "e91ac5f1",
   "metadata": {},
   "outputs": [
    {
     "name": "stdout",
     "output_type": "stream",
     "text": [
      "SCORE OF MULTILINEAR REGRESSION 0.19175584802375112\n"
     ]
    }
   ],
   "source": [
    "print(\"SCORE OF MULTILINEAR REGRESSION\",lin_reg.score(x,y))\n",
    "e1=lin_reg.score(x,y)"
   ]
  },
  {
   "cell_type": "code",
   "execution_count": 74,
   "id": "733144a1",
   "metadata": {},
   "outputs": [
    {
     "data": {
      "image/png": "[encoded data removed]",
      "text/plain": [
       "<Figure size 432x288 with 1 Axes>"
      ]
     },
     "metadata": {
      "needs_background": "light"
     },
     "output_type": "display_data"
    }
   ],
   "source": [
    "plt.scatter(x['residual sugar'], mul_pred)\n",
    "plt.xlabel('residual sugar')\n",
    "plt.ylabel('alcohol')\n",
    "plt.show()"
   ]
  },
  {
   "cell_type": "code",
   "execution_count": 70,
   "id": "ee2bea09",
   "metadata": {},
   "outputs": [],
   "source": [
    "dict = {\"RMSE OF SUPPORT VECTOR REGRESSION \" :svr_rmse,\"RMSE OF RANDOM FOREST\" :ran_rmse,c=\"RMSE OF DECISSION TREE\" :dec_rmse,\"RMSE OF POLYNOMIAL REGRESSION\" :poly_rmse,\"RMSE OF MULTILINEAR REGRESSION\" :np.sqrt(mean_squared_error(y, mul_pred))}"
   ]
  },
  {
   "cell_type": "code",
   "execution_count": 82,
   "id": "27a7c2d5",
   "metadata": {},
   "outputs": [
    {
     "data": {
      "text/plain": [
       "{'RMSE OF SUPPORT VECTOR REGRESSION ': 1.0413996806249752,\n",
       " 'RMSE OF RANDOM FOREST': 0.26122249184520585,\n",
       " 'RMSE OF DECISSION TREE': 0.0010626277880782646,\n",
       " 'RMSE OF POLYNOMIAL REGRESSION': 0.9455048915762011,\n",
       " 'RMSE OF MULTILINEAR REGRESSION': 0.9577611036849808}"
      ]
     },
     "execution_count": 82,
     "metadata": {},
     "output_type": "execute_result"
    }
   ],
   "source": [
    "dict"
   ]
  },
  {
   "cell_type": "code",
   "execution_count": 124,
   "id": "3b059d9e",
   "metadata": {},
   "outputs": [
    {
     "data": {
      "text/plain": [
       "[1.0413996806249752,\n",
       " 0.26122249184520585,\n",
       " 0.0010626277880782646,\n",
       " 0.9455048915762011,\n",
       " 0.9577611036849808]"
      ]
     },
     "execution_count": 124,
     "metadata": {},
     "output_type": "execute_result"
    }
   ],
   "source": [
    "list = [a,b,c,d,e]\n",
    "list"
   ]
  },
  {
   "cell_type": "code",
   "execution_count": 125,
   "id": "e21b7471",
   "metadata": {},
   "outputs": [
    {
     "name": "stdout",
     "output_type": "stream",
     "text": [
      "0.0010626277880782646\n"
     ]
    }
   ],
   "source": [
    "less_RMSE=10\n",
    "for i in list:\n",
    "    if i < less_RMSE:\n",
    "        less_RMSE=i\n",
    "print(less_RMSE)"
   ]
  },
  {
   "cell_type": "code",
   "execution_count": 121,
   "id": "1109152f",
   "metadata": {},
   "outputs": [
    {
     "data": {
      "text/plain": [
       "[0.044428782463155625,\n",
       " 0.9398757993315644,\n",
       " 0.9999990050746029,\n",
       " 0.19175584802375112,\n",
       " 0.19175584802375112]"
      ]
     },
     "execution_count": 121,
     "metadata": {},
     "output_type": "execute_result"
    }
   ],
   "source": [
    "list1=[a1,b1,c1,d1,e1]\n",
    "list1"
   ]
  },
  {
   "cell_type": "code",
   "execution_count": 126,
   "id": "db8dbf51",
   "metadata": {},
   "outputs": [
    {
     "name": "stdout",
     "output_type": "stream",
     "text": [
      "0.9999990050746029\n"
     ]
    }
   ],
   "source": [
    "good_score=-5\n",
    "for i in list1:\n",
    "    if i > good_score:\n",
    "        good_score=i\n",
    "print(good_score)"
   ]
  },
  {
   "cell_type": "markdown",
   "id": "3257f215",
   "metadata": {},
   "source": [
    "# RESULT: After comparing RMSE and Score Decission Tree regressor is much better for this dataset"
   ]
  },
  {
   "cell_type": "code",
   "execution_count": null,
   "id": "f2019ac9",
   "metadata": {},
   "outputs": [],
   "source": []
  }
 ],
 "metadata": {
  "kernelspec": {
   "display_name": "Python 3",
   "language": "python",
   "name": "python3"
  },
  "language_info": {
   "codemirror_mode": {
    "name": "ipython",
    "version": 3
   },
   "file_extension": ".py",
   "mimetype": "text/x-python",
   "name": "python",
   "nbconvert_exporter": "python",
   "pygments_lexer": "ipython3",
   "version": "3.8.8"
  }
 },
 "nbformat": 4,
 "nbformat_minor": 5
}
